{
 "cells": [
  {
   "cell_type": "code",
   "execution_count": null,
   "id": "56c5db2f",
   "metadata": {},
   "outputs": [
    {
     "name": "stdout",
     "output_type": "stream",
     "text": [
      "As of 2025, space technology is experiencing remarkable advances across multiple fronts:\n",
      "\n",
      "## Reusable Launch Systems\n",
      "- **SpaceX Falcon Heavy** and **Starship** are revolutionizing launch economics with full reusability\n",
      "- Multiple companies (Blue Origin, Rocket Lab, etc.) have operational reusable rockets\n",
      "- Launch costs have dropped dramatically, enabling more frequent missions\n",
      "\n",
      "## Commercial Space Stations\n",
      "- Several private space stations are in development/early operations as ISS transitions toward retirement\n",
      "- Companies like Axiom Space, Blue Origin, and others are building commercial orbital facilities\n",
      "\n",
      "## Lunar Economy\n",
      "- **Artemis program** has returned humans to the Moon\n",
      "- Multiple nations (China, India, Japan) have active lunar missions\n",
      "- Private companies are providing lunar logistics and services\n",
      "- In-situ resource utilization (ISRU) demonstrations are underway\n",
      "\n",
      "## Mars Exploration\n",
      "- Advanced rovers and helicopters continue Mars surface operations\n",
      "- Sample return missions are in progress\n",
      "- Detailed planning for crewed Mars missions in the 2030s\n",
      "\n",
      "## Space Manufacturing\n",
      "- Orbital factories are producing fiber optics, pharmaceuticals, and advanced materials in microgravity\n",
      "- 3D printing in space has become routine for tools and components\n",
      "\n",
      "## Satellite Constellations\n",
      "- Massive broadband constellations (Starlink, Kuiper, others) provide global internet\n",
      "- Earth observation capabilities have dramatically improved with AI-enhanced analysis\n",
      "\n",
      "## Emerging Technologies\n",
      "- Nuclear propulsion systems are being tested\n",
      "- Space-based solar power demonstrations\n",
      "- Advanced life support systems for long-duration missions\n",
      "\n",
      "The field is moving faster than ever, with unprecedented private sector involvement driving innovation and reducing costs.\n",
      "\n",
      "\n",
      "The old bookstore cat stretched lazily in the afternoon sunlight streaming through the dusty window.\n"
     ]
    }
   ],
   "source": [
    "# Showing Claude API does not store content / have inbuilt short term context \n",
    "from dotenv import load_dotenv\n",
    "import os\n",
    "\n",
    "# Load environment variables from .env file\n",
    "load_dotenv()\n",
    "\n",
    "# Create an API Client \n",
    "from anthropic import Anthropic\n",
    "client = Anthropic()\n",
    "model = \"claude-sonnet-4-0\"\n",
    "\n",
    "# Make a request \n",
    "message = client.messages.create(\n",
    "    model=model,\n",
    "    max_tokens=1000,\n",
    "    messages=[\n",
    "        {\"role\": \"user\", \n",
    "         \"content\": \"What is the state of art in space tech in 2025?\"}\n",
    "    ]\n",
    ")\n",
    "print(message.content[0].text) \n",
    "\n",
    "# Make another request  \n",
    "# Make a request \n",
    "message = client.messages.create(\n",
    "    model=model,\n",
    "    max_tokens=1000,\n",
    "    messages=[\n",
    "        {\"role\": \"user\", \n",
    "         \"content\": \"Write another sentence.\"}\n",
    "    ]\n",
    ")\n",
    "print(\"\\n\")\n",
    "print(message.content[0].text) "
   ]
  },
  {
   "cell_type": "code",
   "execution_count": 4,
   "id": "237a7492",
   "metadata": {},
   "outputs": [],
   "source": [
    "def add_user_message(messages,text):\n",
    "    messages.append({\"role\": \"user\", \"content\": text})\n",
    "\n",
    "def add_assistant_message(messages,text):\n",
    "    messages.append({\"role\": \"assistant\", \"content\": text})\n",
    "\n",
    "def chat(messages):\n",
    "    message = client.messages.create(\n",
    "        model=model,\n",
    "        max_tokens=1000,\n",
    "        messages = messages\n",
    "    )\n",
    "    return message.content[0].text "
   ]
  },
  {
   "cell_type": "code",
   "execution_count": 9,
   "id": "a8b5331a",
   "metadata": {},
   "outputs": [
    {
     "name": "stdout",
     "output_type": "stream",
     "text": [
      "**Commercial disruption**: SpaceX's reusable rocket breakthrough (~2015-2020) dramatically cut launch costs, spurring massive private investment and competition that accelerated innovation across the entire industry.\n",
      "\n",
      "**Technology convergence**: Advances in AI, materials science, miniaturized electronics, and manufacturing techniques from other industries finally matured enough to enable practical space applications at scale.\n",
      "\n",
      "**Economic opportunity**: The proven profitability of satellite internet, space services, and resource extraction created sustainable business models that attracted venture capital and government partnerships, funding rapid development.\n"
     ]
    }
   ],
   "source": [
    "# Define a list of messages \n",
    "messages = []\n",
    "\n",
    "# Passing the user message \n",
    "add_user_message(messages, \"What is the state of art in space tech in 2025?\")\n",
    "messages \n",
    "\n",
    "# Generating a response\n",
    "message = chat(messages)\n",
    "\n",
    "# Adding the assistant message \n",
    "add_assistant_message(messages, message)\n",
    "\n",
    "# Adding another user message \n",
    "add_user_message(messages, \"Briefly explain what led to this development in 3 lines\")\n",
    "\n",
    "# Generating a response\n",
    "message = chat(messages)\n",
    "add_assistant_message(messages, message)\n",
    "print(message)"
   ]
  },
  {
   "cell_type": "code",
   "execution_count": null,
   "id": "7449fe60",
   "metadata": {},
   "outputs": [],
   "source": []
  }
 ],
 "metadata": {
  "kernelspec": {
   "display_name": ".venv",
   "language": "python",
   "name": "python3"
  },
  "language_info": {
   "codemirror_mode": {
    "name": "ipython",
    "version": 3
   },
   "file_extension": ".py",
   "mimetype": "text/x-python",
   "name": "python",
   "nbconvert_exporter": "python",
   "pygments_lexer": "ipython3",
   "version": "3.13.5"
  }
 },
 "nbformat": 4,
 "nbformat_minor": 5
}
