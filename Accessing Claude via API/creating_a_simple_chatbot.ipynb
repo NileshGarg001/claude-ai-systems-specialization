{
 "cells": [
  {
   "cell_type": "code",
   "execution_count": 1,
   "id": "5c9bb06a",
   "metadata": {},
   "outputs": [
    {
     "data": {
      "text/plain": [
       "True"
      ]
     },
     "execution_count": 1,
     "metadata": {},
     "output_type": "execute_result"
    }
   ],
   "source": [
    "# Loading the API key \n",
    "from dotenv import load_dotenv\n",
    "import os\n",
    "\n",
    "# Load environment variables from .env file\n",
    "load_dotenv()"
   ]
  },
  {
   "cell_type": "code",
   "execution_count": 2,
   "id": "f112d571",
   "metadata": {},
   "outputs": [],
   "source": [
    "# Create an API Client \n",
    "\n",
    "from anthropic import Anthropic\n",
    "client = Anthropic()\n",
    "model = \"claude-sonnet-4-0\""
   ]
  },
  {
   "cell_type": "code",
   "execution_count": 8,
   "id": "f6041fa0",
   "metadata": {},
   "outputs": [],
   "source": [
    "# Helper functions \n",
    "\n",
    "def add_user_message(messages,text):\n",
    "    messages.append({\"role\": \"user\", \"content\": text})\n",
    "\n",
    "def add_assistant_message(messages,text):\n",
    "    messages.append({\"role\": \"assistant\", \"content\": text})\n",
    "\n",
    "def generate_response(messages):\n",
    "    response = client.messages.create(\n",
    "        model=model,\n",
    "        messages=messages,\n",
    "        max_tokens=5000,\n",
    "    )\n",
    "    return response.content[0].text"
   ]
  },
  {
   "cell_type": "code",
   "execution_count": 9,
   "id": "2154fdef",
   "metadata": {},
   "outputs": [
    {
     "data": {
      "text/markdown": [
       "**User**: Hello\n"
      ],
      "text/plain": [
       "<IPython.core.display.Markdown object>"
      ]
     },
     "metadata": {},
     "output_type": "display_data"
    },
    {
     "data": {
      "text/markdown": [
       "**Claude**: Hello! How are you doing today? Is there anything I can help you with?\n"
      ],
      "text/plain": [
       "<IPython.core.display.Markdown object>"
      ]
     },
     "metadata": {},
     "output_type": "display_data"
    },
    {
     "data": {
      "text/markdown": [
       "**User**: Yeah, I wanna learn about space tech \n"
      ],
      "text/plain": [
       "<IPython.core.display.Markdown object>"
      ]
     },
     "metadata": {},
     "output_type": "display_data"
    },
    {
     "data": {
      "text/markdown": [
       "**Claude**: That's awesome! Space technology is such a fascinating field with so much happening right now. What aspects are you most interested in? Here are some exciting areas:\n",
       "\n",
       "**Current Hot Topics:**\n",
       "- **Reusable rockets** (SpaceX Falcon 9, Blue Origin New Shepard)\n",
       "- **Mars exploration** (rovers, upcoming crewed missions)\n",
       "- **Commercial space stations** (replacing the ISS)\n",
       "- **Satellite constellations** (Starlink, internet from space)\n",
       "- **Space manufacturing** (making things in zero gravity)\n",
       "\n",
       "**Propulsion Tech:**\n",
       "- Ion drives for deep space missions\n",
       "- Nuclear propulsion concepts\n",
       "- Electric spacecraft engines\n",
       "\n",
       "**Life Support & Habitats:**\n",
       "- Closed-loop life support systems\n",
       "- In-situ resource utilization (using materials from other planets)\n",
       "- Radiation shielding\n",
       "\n",
       "**Emerging Areas:**\n",
       "- Space mining asteroids\n",
       "- Solar power satellites\n",
       "- Quantum communication in space\n",
       "\n",
       "What catches your interest most? Are you thinking about this from a career perspective, general curiosity, or maybe a specific project? I'd love to dive deeper into whatever excites you!\n"
      ],
      "text/plain": [
       "<IPython.core.display.Markdown object>"
      ]
     },
     "metadata": {},
     "output_type": "display_data"
    },
    {
     "data": {
      "text/markdown": [
       "**User**: Yeah, I want to be an entrepenuer in AI in space  \n"
      ],
      "text/plain": [
       "<IPython.core.display.Markdown object>"
      ]
     },
     "metadata": {},
     "output_type": "display_data"
    },
    {
     "data": {
      "text/markdown": [
       "**Claude**: That's an incredibly exciting combination! AI in space is a rapidly growing field with huge opportunities. Here are some key areas where AI entrepreneurs are making waves:\n",
       "\n",
       "**Hot AI Applications in Space:**\n",
       "\n",
       "**Satellite Data & Earth Observation:**\n",
       "- AI-powered crop monitoring, disaster response, climate tracking\n",
       "- Real-time processing of satellite imagery\n",
       "- Companies like Planet Labs, Descartes Labs are leading here\n",
       "\n",
       "**Autonomous Spacecraft:**\n",
       "- AI for navigation, docking, debris avoidance\n",
       "- Smart mission planning and resource allocation\n",
       "- Self-repairing systems using AI diagnostics\n",
       "\n",
       "**Space Communications:**\n",
       "- AI-optimized satellite networks\n",
       "- Intelligent routing for space internet\n",
       "- Predictive maintenance for satellite constellations\n",
       "\n",
       "**Manufacturing & Mining:**\n",
       "- AI-controlled robotic systems for asteroid mining\n",
       "- Autonomous 3D printing in space\n",
       "- Smart resource extraction and processing\n",
       "\n",
       "**Mission Planning:**\n",
       "- AI for trajectory optimization\n",
       "- Intelligent scheduling of space missions\n",
       "- Risk assessment and decision support\n",
       "\n",
       "**Where to Start:**\n",
       "- Study successful companies like Cognitive Space, Orbital Insight\n",
       "- Learn about space-grade computing constraints\n",
       "- Understand radiation-hardened AI hardware\n",
       "- Network with space accelerators (Techstars Space, MassChallenge)\n",
       "\n",
       "What specific problem in space do you think AI could solve better? That's often the best starting point for entrepreneurs!\n"
      ],
      "text/plain": [
       "<IPython.core.display.Markdown object>"
      ]
     },
     "metadata": {},
     "output_type": "display_data"
    }
   ],
   "source": [
    "# The Chatbot loop \n",
    "messages = []\n",
    "from IPython.display import display, Markdown\n",
    "\n",
    "def display_conversation(messages):\n",
    "    for msg in messages:\n",
    "        role = msg[\"role\"]\n",
    "        content = msg[\"content\"]\n",
    "        \n",
    "        if role == \"user\":\n",
    "            display(Markdown(f\"**User**: {content}\\n\"))\n",
    "        elif role == \"assistant\": \n",
    "            display(Markdown(f\"**Claude**: {content}\\n\"))\n",
    "            \n",
    "\n",
    "while True:\n",
    "    user_input = input(\"Enter your message (or 'end' to quit): \")\n",
    "    \n",
    "    if user_input.lower() == 'end':\n",
    "        break\n",
    "        \n",
    "    add_user_message(messages, user_input)\n",
    "    response = generate_response(messages)\n",
    "    assistant_response = response\n",
    "    \n",
    "    display_conversation([\n",
    "        {\"role\": \"user\", \"content\": user_input},\n",
    "        {\"role\": \"assistant\", \"content\": assistant_response}\n",
    "    ])\n",
    "    add_assistant_message(messages, assistant_response)"
   ]
  },
  {
   "cell_type": "code",
   "execution_count": null,
   "id": "243b12aa",
   "metadata": {},
   "outputs": [],
   "source": []
  }
 ],
 "metadata": {
  "kernelspec": {
   "display_name": ".venv",
   "language": "python",
   "name": "python3"
  },
  "language_info": {
   "codemirror_mode": {
    "name": "ipython",
    "version": 3
   },
   "file_extension": ".py",
   "mimetype": "text/x-python",
   "name": "python",
   "nbconvert_exporter": "python",
   "pygments_lexer": "ipython3",
   "version": "3.13.5"
  }
 },
 "nbformat": 4,
 "nbformat_minor": 5
}
