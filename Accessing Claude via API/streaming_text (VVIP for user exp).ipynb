{
 "cells": [
  {
   "cell_type": "code",
   "execution_count": 1,
   "id": "efbe8748",
   "metadata": {},
   "outputs": [],
   "source": [
    "# Showing Claude API does not store content / have inbuilt short term context \n",
    "from dotenv import load_dotenv\n",
    "import os\n",
    "\n",
    "# Load environment variables from .env file\n",
    "load_dotenv()\n",
    "\n",
    "# Create an API Client \n",
    "from anthropic import Anthropic\n",
    "client = Anthropic()\n",
    "model = \"claude-sonnet-4-0\""
   ]
  },
  {
   "cell_type": "code",
   "execution_count": 2,
   "id": "93341809",
   "metadata": {},
   "outputs": [],
   "source": [
    "def add_user_message(messages,text):\n",
    "    messages.append({\"role\": \"user\", \"content\": text})\n",
    "\n",
    "def add_assistant_message(messages,text):\n",
    "    messages.append({\"role\": \"assistant\", \"content\": text})"
   ]
  },
  {
   "cell_type": "code",
   "execution_count": 9,
   "id": "092e1a5b",
   "metadata": {},
   "outputs": [
    {
     "name": "stdout",
     "output_type": "stream",
     "text": [
      "In 2025, physics remains the cornerstone of our rapidly advancing technological civilization, driving breakthroughs that directly impact daily life. From the quantum mechanics principles enabling more powerful quantum computers and ultra-secure communications, to the electromagnetic theory behind 6G wireless networks and advanced medical imaging, physics provides the fundamental understanding needed for innovation. Climate change mitigation relies heavily on physics-based solutions like next-generation solar cells, fusion energy research, and efficient energy storage systems. Meanwhile, artificial intelligence and machine learning increasingly depend on physics concepts for neuromorphic computing and advanced sensor technologies. As we face global challenges ranging from sustainable energy to space exploration and precision medicine, physics continues to be the essential science that transforms theoretical understanding into practical solutions, making it more relevant and crucial than ever in shaping our technological future.\n"
     ]
    }
   ],
   "source": [
    "messages = []\n",
    "add_user_message(messages, \"Write a small paragraph on importance of physics in 2025 ?\")\n",
    "response = client.messages.create(\n",
    "    model=model,\n",
    "    messages=messages,\n",
    "    max_tokens=1000,\n",
    ")\n",
    "print(response.content[0].text)"
   ]
  },
  {
   "cell_type": "code",
   "execution_count": 10,
   "id": "62888d4f",
   "metadata": {},
   "outputs": [
    {
     "name": "stdout",
     "output_type": "stream",
     "text": [
      "RawMessageStartEvent(message=Message(id='msg_01SYUftPVqF2fA9voy6dmJ4G', content=[], model='claude-sonnet-4-20250514', role='assistant', stop_reason=None, stop_sequence=None, type='message', usage=Usage(cache_creation_input_tokens=0, cache_read_input_tokens=0, input_tokens=21, output_tokens=2, server_tool_use=None, service_tier='standard')), type='message_start')\n",
      "RawContentBlockStartEvent(content_block=TextBlock(citations=None, text='', type='text'), index=0, type='content_block_start')\n",
      "RawContentBlockDeltaEvent(delta=TextDelta(text='Physics remains', type='text_delta'), index=0, type='content_block_delta')\n",
      "RawContentBlockDeltaEvent(delta=TextDelta(text=' absolutely crucial in 2025 as it continues to drive', type='text_delta'), index=0, type='content_block_delta')\n",
      "RawContentBlockDeltaEvent(delta=TextDelta(text=\" humanity's most transformative technological advances. From quantum computing bre\", type='text_delta'), index=0, type='content_block_delta')\n",
      "RawContentBlockDeltaEvent(delta=TextDelta(text='akthroughs that are revolutionizing cybersecurity an', type='text_delta'), index=0, type='content_block_delta')\n",
      "RawContentBlockDeltaEvent(delta=TextDelta(text='d drug discovery, to advanced materials science enabling more', type='text_delta'), index=0, type='content_block_delta')\n",
      "RawContentBlockDeltaEvent(delta=TextDelta(text=' efficient renewable energy systems, physics provides the fundamental', type='text_delta'), index=0, type='content_block_delta')\n",
      "RawContentBlockDeltaEvent(delta=TextDelta(text=' understanding needed to tackle global challenges. The fiel', type='text_delta'), index=0, type='content_block_delta')\n",
      "RawContentBlockDeltaEvent(delta=TextDelta(text='d is instrumental in developing next-generation medical technologies like', type='text_delta'), index=0, type='content_block_delta')\n",
      "RawContentBlockDeltaEvent(delta=TextDelta(text=' precision radiotherapy and advanced imaging systems, while also pushing', type='text_delta'), index=0, type='content_block_delta')\n",
      "RawContentBlockDeltaEvent(delta=TextDelta(text=' the boundaries of artificial intelligence through neuromorphic computing inspired by quantum', type='text_delta'), index=0, type='content_block_delta')\n",
      "RawContentBlockDeltaEvent(delta=TextDelta(text=' mechanics. As we face climate change, energy demands, and the need for sustainable development, physics offers the', type='text_delta'), index=0, type='content_block_delta')\n",
      "RawContentBlockDeltaEvent(delta=TextDelta(text=' theoretical framework and practical solutions – from fusion energy research to semiconductor', type='text_delta'), index=0, type='content_block_delta')\n",
      "RawContentBlockDeltaEvent(delta=TextDelta(text=' innovations – that will shape our technological landscape and improve', type='text_delta'), index=0, type='content_block_delta')\n",
      "RawContentBlockDeltaEvent(delta=TextDelta(text=' quality of life worldwide. In essence, physics in', type='text_delta'), index=0, type='content_block_delta')\n",
      "RawContentBlockDeltaEvent(delta=TextDelta(text=' 2025 serves as the cornerstone science that transforms', type='text_delta'), index=0, type='content_block_delta')\n",
      "RawContentBlockDeltaEvent(delta=TextDelta(text=\" theoretical knowledge into real-world applications addressing humanity's most\", type='text_delta'), index=0, type='content_block_delta')\n",
      "RawContentBlockDeltaEvent(delta=TextDelta(text=' pressing needs.', type='text_delta'), index=0, type='content_block_delta')\n",
      "RawContentBlockStopEvent(index=0, type='content_block_stop')\n",
      "RawMessageDeltaEvent(delta=Delta(stop_reason='end_turn', stop_sequence=None), type='message_delta', usage=MessageDeltaUsage(cache_creation_input_tokens=None, cache_read_input_tokens=None, input_tokens=None, output_tokens=181, server_tool_use=None))\n",
      "RawMessageStopEvent(type='message_stop')\n"
     ]
    }
   ],
   "source": [
    "# Displaying all the events in a straming response \n",
    "messages = []\n",
    "add_user_message(messages, \"Write a small paragraph on importance of physics in 2025 ?\")\n",
    "response = client.messages.create(\n",
    "    model=model,\n",
    "    messages=messages,\n",
    "    max_tokens=1000,\n",
    "    stream=True,\n",
    ")\n",
    "for event in response:\n",
    "    print(event)"
   ]
  },
  {
   "cell_type": "code",
   "execution_count": 12,
   "id": "189d6294",
   "metadata": {},
   "outputs": [
    {
     "name": "stdout",
     "output_type": "stream",
     "text": [
      "Physics remains fundamentally crucial in 2025 as it continues to drive transformative technologies shaping our world. From advancing quantum computing and artificial intelligence hardware to developing sustainable energy solutions like fusion power and next-generation solar cells, physics provides the essential foundation for innovation. The field is particularly vital in addressing climate change through improved battery technologies, carbon capture methods, and renewable energy systems. Additionally, physics research in areas like quantum sensors, advanced materials, and space exploration is opening new frontiers in medicine, communication, and our understanding of the universe. As we face complex global challenges, physics serves as both the theoretical framework and practical toolkit for developing solutions that will define the next decade of human progress."
     ]
    }
   ],
   "source": [
    "# As we see most of the response is in the Block Delta Events and \n",
    "# We mostly care about the text since we want to display the evolving response \n",
    "# Calude has a way to get just the text so we do not have to develop our own logic \n",
    "messages = []\n",
    "add_user_message(messages, \"Write a small paragraph on importance of physics in 2025 ?\")\n",
    "with client.messages.stream(\n",
    "    model=model,\n",
    "    messages=messages,\n",
    "    max_tokens=1000,\n",
    ") as stream: \n",
    "    for text in stream.text_stream:\n",
    "        print(text, end = \"\")\n",
    "response = stream.get_final_message()\n",
    " "
   ]
  },
  {
   "cell_type": "code",
   "execution_count": 13,
   "id": "04c1eabf",
   "metadata": {},
   "outputs": [
    {
     "data": {
      "text/plain": [
       "Message(id='msg_01RhZWbYScv1a6xGuvHzHyxL', content=[TextBlock(citations=None, text='Physics remains fundamentally crucial in 2025 as it continues to drive transformative technologies shaping our world. From advancing quantum computing and artificial intelligence hardware to developing sustainable energy solutions like fusion power and next-generation solar cells, physics provides the essential foundation for innovation. The field is particularly vital in addressing climate change through improved battery technologies, carbon capture methods, and renewable energy systems. Additionally, physics research in areas like quantum sensors, advanced materials, and space exploration is opening new frontiers in medicine, communication, and our understanding of the universe. As we face complex global challenges, physics serves as both the theoretical framework and practical toolkit for developing solutions that will define the next decade of human progress.', type='text')], model='claude-sonnet-4-20250514', role='assistant', stop_reason='end_turn', stop_sequence=None, type='message', usage=Usage(cache_creation_input_tokens=0, cache_read_input_tokens=0, input_tokens=21, output_tokens=143, server_tool_use=None, service_tier='standard'))"
      ]
     },
     "execution_count": 13,
     "metadata": {},
     "output_type": "execute_result"
    }
   ],
   "source": [
    "response"
   ]
  },
  {
   "cell_type": "code",
   "execution_count": 14,
   "id": "c6224912",
   "metadata": {},
   "outputs": [],
   "source": [
    "# We still have the final response for our context / DB / stuff we need it for "
   ]
  }
 ],
 "metadata": {
  "kernelspec": {
   "display_name": ".venv",
   "language": "python",
   "name": "python3"
  },
  "language_info": {
   "codemirror_mode": {
    "name": "ipython",
    "version": 3
   },
   "file_extension": ".py",
   "mimetype": "text/x-python",
   "name": "python",
   "nbconvert_exporter": "python",
   "pygments_lexer": "ipython3",
   "version": "3.13.5"
  }
 },
 "nbformat": 4,
 "nbformat_minor": 5
}
