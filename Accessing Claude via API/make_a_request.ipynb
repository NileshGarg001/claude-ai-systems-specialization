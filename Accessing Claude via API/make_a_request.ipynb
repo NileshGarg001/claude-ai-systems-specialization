{
 "cells": [
  {
   "cell_type": "code",
   "execution_count": 3,
   "id": "c2ccabbc",
   "metadata": {},
   "outputs": [],
   "source": [
    "# Installing required dependencies\n",
    "#%pip install anthropic python-dotenv"
   ]
  },
  {
   "cell_type": "code",
   "execution_count": 8,
   "id": "28cf59fa",
   "metadata": {},
   "outputs": [
    {
     "data": {
      "text/plain": [
       "True"
      ]
     },
     "execution_count": 8,
     "metadata": {},
     "output_type": "execute_result"
    }
   ],
   "source": [
    "from dotenv import load_dotenv\n",
    "import os\n",
    "\n",
    "# Load environment variables from .env file\n",
    "load_dotenv()\n"
   ]
  },
  {
   "cell_type": "code",
   "execution_count": 9,
   "id": "c2acef3c",
   "metadata": {},
   "outputs": [],
   "source": [
    "# Create an API Client \n",
    "from anthropic import Anthropic\n",
    "client = Anthropic()\n",
    "model = \"claude-sonnet-4-0\""
   ]
  },
  {
   "cell_type": "code",
   "execution_count": 11,
   "id": "c22c1b72",
   "metadata": {},
   "outputs": [],
   "source": [
    "# Make a request \n",
    "message = client.messages.create(\n",
    "    model=model,\n",
    "    max_tokens=1000,\n",
    "    messages=[\n",
    "        {\"role\": \"user\", \n",
    "         \"content\": \"What is the state of art in space tech in 2025?\"}\n",
    "    ]\n",
    ")"
   ]
  },
  {
   "cell_type": "code",
   "execution_count": 12,
   "id": "0b279a09",
   "metadata": {},
   "outputs": [
    {
     "data": {
      "text/plain": [
       "Message(id='msg_018LGztPyDgavq1RWrm4NNKw', content=[TextBlock(citations=None, text=\"As of 2025, space technology is experiencing rapid advancement across several key areas:\\n\\n## Launch Technology\\n- **Reusable rockets** are now standard, with SpaceX's Falcon 9 and Falcon Heavy leading, while competitors like Blue Origin's New Glenn and Rocket Lab's Neutron are entering the market\\n- **Starship** is undergoing advanced testing with orbital flights, aiming for Mars missions\\n- Launch costs continue declining, making space more accessible\\n\\n## Commercial Space\\n- **Space tourism** is expanding beyond suborbital flights, with orbital hotels in development\\n- **Manufacturing in space** is being tested for fiber optics, pharmaceuticals, and advanced materials\\n- Private space stations are in development as ISS replacement approaches\\n\\n## Lunar Economy\\n- Multiple nations and companies are establishing **lunar bases** and mining operations\\n- NASA's Artemis program has returned humans to the Moon\\n- **Lunar internet** and communication networks are being deployed\\n\\n## Satellite Technology\\n- **Mega-constellations** like Starlink provide global broadband\\n- Advanced Earth observation satellites offer real-time climate and agricultural monitoring\\n- **Satellite servicing** robots can repair and refuel spacecraft in orbit\\n\\n## Deep Space Exploration\\n- AI-powered autonomous spacecraft for asteroid mining and deep space missions\\n- Advanced propulsion systems (ion drives, nuclear thermal) enabling faster interplanetary travel\\n- Robotic missions to Jupiter's and Saturn's moons searching for life\\n\\n## Emerging Technologies\\n- **Space-based solar power** demonstrations\\n- **3D printing** in space for construction and manufacturing\\n- Quantum communication satellites for ultra-secure communications\\n\\nThe field is characterized by increasing commercialization, international cooperation, and rapid technological iteration.\", type='text')], model='claude-sonnet-4-20250514', role='assistant', stop_reason='end_turn', stop_sequence=None, type='message', usage=Usage(cache_creation_input_tokens=0, cache_read_input_tokens=0, input_tokens=21, output_tokens=377, server_tool_use=None, service_tier='standard'))"
      ]
     },
     "execution_count": 12,
     "metadata": {},
     "output_type": "execute_result"
    }
   ],
   "source": [
    "message "
   ]
  },
  {
   "cell_type": "code",
   "execution_count": 14,
   "id": "c14fb92a",
   "metadata": {},
   "outputs": [
    {
     "name": "stdout",
     "output_type": "stream",
     "text": [
      "As of 2025, space technology is experiencing rapid advancement across several key areas:\n",
      "\n",
      "## Launch Technology\n",
      "- **Reusable rockets** are now standard, with SpaceX's Falcon 9 and Falcon Heavy leading, while competitors like Blue Origin's New Glenn and Rocket Lab's Neutron are entering the market\n",
      "- **Starship** is undergoing advanced testing with orbital flights, aiming for Mars missions\n",
      "- Launch costs continue declining, making space more accessible\n",
      "\n",
      "## Commercial Space\n",
      "- **Space tourism** is expanding beyond suborbital flights, with orbital hotels in development\n",
      "- **Manufacturing in space** is being tested for fiber optics, pharmaceuticals, and advanced materials\n",
      "- Private space stations are in development as ISS replacement approaches\n",
      "\n",
      "## Lunar Economy\n",
      "- Multiple nations and companies are establishing **lunar bases** and mining operations\n",
      "- NASA's Artemis program has returned humans to the Moon\n",
      "- **Lunar internet** and communication networks are being deployed\n",
      "\n",
      "## Satellite Technology\n",
      "- **Mega-constellations** like Starlink provide global broadband\n",
      "- Advanced Earth observation satellites offer real-time climate and agricultural monitoring\n",
      "- **Satellite servicing** robots can repair and refuel spacecraft in orbit\n",
      "\n",
      "## Deep Space Exploration\n",
      "- AI-powered autonomous spacecraft for asteroid mining and deep space missions\n",
      "- Advanced propulsion systems (ion drives, nuclear thermal) enabling faster interplanetary travel\n",
      "- Robotic missions to Jupiter's and Saturn's moons searching for life\n",
      "\n",
      "## Emerging Technologies\n",
      "- **Space-based solar power** demonstrations\n",
      "- **3D printing** in space for construction and manufacturing\n",
      "- Quantum communication satellites for ultra-secure communications\n",
      "\n",
      "The field is characterized by increasing commercialization, international cooperation, and rapid technological iteration.\n"
     ]
    }
   ],
   "source": [
    "print(message.content[0].text) "
   ]
  },
  {
   "cell_type": "code",
   "execution_count": 15,
   "id": "480ffd3b",
   "metadata": {},
   "outputs": [
    {
     "data": {
      "text/markdown": [
       "As of 2025, space technology is experiencing rapid advancement across several key areas:\n",
       "\n",
       "## Launch Technology\n",
       "- **Reusable rockets** are now standard, with SpaceX's Falcon 9 and Falcon Heavy leading, while competitors like Blue Origin's New Glenn and Rocket Lab's Neutron are entering the market\n",
       "- **Starship** is undergoing advanced testing with orbital flights, aiming for Mars missions\n",
       "- Launch costs continue declining, making space more accessible\n",
       "\n",
       "## Commercial Space\n",
       "- **Space tourism** is expanding beyond suborbital flights, with orbital hotels in development\n",
       "- **Manufacturing in space** is being tested for fiber optics, pharmaceuticals, and advanced materials\n",
       "- Private space stations are in development as ISS replacement approaches\n",
       "\n",
       "## Lunar Economy\n",
       "- Multiple nations and companies are establishing **lunar bases** and mining operations\n",
       "- NASA's Artemis program has returned humans to the Moon\n",
       "- **Lunar internet** and communication networks are being deployed\n",
       "\n",
       "## Satellite Technology\n",
       "- **Mega-constellations** like Starlink provide global broadband\n",
       "- Advanced Earth observation satellites offer real-time climate and agricultural monitoring\n",
       "- **Satellite servicing** robots can repair and refuel spacecraft in orbit\n",
       "\n",
       "## Deep Space Exploration\n",
       "- AI-powered autonomous spacecraft for asteroid mining and deep space missions\n",
       "- Advanced propulsion systems (ion drives, nuclear thermal) enabling faster interplanetary travel\n",
       "- Robotic missions to Jupiter's and Saturn's moons searching for life\n",
       "\n",
       "## Emerging Technologies\n",
       "- **Space-based solar power** demonstrations\n",
       "- **3D printing** in space for construction and manufacturing\n",
       "- Quantum communication satellites for ultra-secure communications\n",
       "\n",
       "The field is characterized by increasing commercialization, international cooperation, and rapid technological iteration."
      ],
      "text/plain": [
       "<IPython.core.display.Markdown object>"
      ]
     },
     "metadata": {},
     "output_type": "display_data"
    }
   ],
   "source": [
    "from IPython.display import Markdown, display\n",
    "\n",
    "response_text = message.content[0].text\n",
    "display(Markdown(response_text))"
   ]
  }
 ],
 "metadata": {
  "kernelspec": {
   "display_name": ".venv",
   "language": "python",
   "name": "python3"
  },
  "language_info": {
   "codemirror_mode": {
    "name": "ipython",
    "version": 3
   },
   "file_extension": ".py",
   "mimetype": "text/x-python",
   "name": "python",
   "nbconvert_exporter": "python",
   "pygments_lexer": "ipython3",
   "version": "3.13.5"
  }
 },
 "nbformat": 4,
 "nbformat_minor": 5
}
