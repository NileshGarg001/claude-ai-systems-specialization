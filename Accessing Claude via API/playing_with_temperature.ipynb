{
 "cells": [
  {
   "cell_type": "code",
   "execution_count": 1,
   "id": "8c78f37e",
   "metadata": {},
   "outputs": [],
   "source": [
    "# Showing Claude API does not store content / have inbuilt short term context \n",
    "from dotenv import load_dotenv\n",
    "import os\n",
    "\n",
    "# Load environment variables from .env file\n",
    "load_dotenv()\n",
    "\n",
    "# Create an API Client \n",
    "from anthropic import Anthropic\n",
    "client = Anthropic()\n",
    "model = \"claude-sonnet-4-0\""
   ]
  },
  {
   "cell_type": "code",
   "execution_count": 3,
   "id": "45be6789",
   "metadata": {},
   "outputs": [],
   "source": [
    "def add_user_message(messages,text):\n",
    "    messages.append({\"role\": \"user\", \"content\": text})\n",
    "\n",
    "def add_assistant_message(messages,text):\n",
    "    messages.append({\"role\": \"assistant\", \"content\": text})\n",
    "\n",
    "def chat(messages, system = \"You are a helpful assistant.\", temp = 0.0):\n",
    "    message = client.messages.create(\n",
    "        model=model,\n",
    "        max_tokens=1000,\n",
    "        messages = messages,\n",
    "        system=system,\n",
    "        temperature=temp\n",
    "    )\n",
    "    return message.content[0].text "
   ]
  },
  {
   "cell_type": "code",
   "execution_count": 5,
   "id": "0b1002cb",
   "metadata": {},
   "outputs": [
    {
     "name": "stdout",
     "output_type": "stream",
     "text": [
      "Here's a compelling article idea for you:\n",
      "\n",
      "**\"The AI Alignment Problem: Why Teaching Machines Human Values is Harder Than We Think\"**\n",
      "\n",
      "This topic is timely, accessible to general audiences, and has real-world implications. You could explore:\n",
      "\n",
      "- What AI alignment means and why it matters\n",
      "- Real examples of AI systems behaving in unexpected ways (like chatbots giving harmful advice or recommendation algorithms creating filter bubbles)\n",
      "- The challenge of defining and encoding human values into machines\n",
      "- Current research approaches (constitutional AI, reward modeling, etc.)\n",
      "- Why this problem becomes more critical as AI systems become more powerful\n",
      "- What companies, researchers, and policymakers are doing about it\n",
      "\n",
      "**Why this works well:**\n",
      "- It's relevant to current AI developments\n",
      "- Appeals to both tech-savvy and general readers\n",
      "- Has concrete examples you can use\n",
      "- Connects to broader questions about technology and society\n",
      "- Not overly technical but substantive\n",
      "\n",
      "**Alternative angles:** You could focus on a specific case study (like ChatGPT's safety measures) or make it more forward-looking (alignment challenges for future AI systems).\n",
      "\n",
      "Would you like me to suggest a different topic or help you develop this one further?\n"
     ]
    }
   ],
   "source": [
    "messages = []\n",
    "add_user_message(messages, \"Give me an idea to write an article on in AI.\")\n",
    "response = chat(messages)\n",
    "print(response)"
   ]
  },
  {
   "cell_type": "code",
   "execution_count": null,
   "id": "977f9618",
   "metadata": {},
   "outputs": [
    {
     "name": "stdout",
     "output_type": "stream",
     "text": [
      "Here's a compelling article idea for you:\n",
      "\n",
      "**\"The AI Mirror: How Machine Learning is Revealing Hidden Biases in Human Decision-Making\"**\n",
      "\n",
      "This article could explore how AI systems, when trained on human data, often expose unconscious biases in areas like:\n",
      "\n",
      "- **Hiring practices** - AI recruitment tools revealing gender/racial biases in job descriptions and candidate evaluation\n",
      "- **Healthcare** - How medical AI has uncovered disparities in pain assessment and treatment recommendations across different demographic groups\n",
      "- **Criminal justice** - Predictive policing algorithms highlighting biased patterns in historical arrest data\n",
      "- **Financial services** - Credit scoring AI exposing discriminatory lending practices\n",
      "\n",
      "The piece could discuss:\n",
      "- Specific real-world examples and case studies\n",
      "- How these revelations are forcing organizations to confront uncomfortable truths\n",
      "- The paradox of AI both perpetuating and illuminating bias\n",
      "- Steps being taken to create more equitable AI systems\n",
      "- What this teaches us about human psychology and institutional blind spots\n",
      "\n",
      "This angle is timely, accessible to general readers, and offers a balanced perspective on AI as both a problem and a diagnostic tool for social issues. It also provides concrete examples while addressing broader implications for society.\n",
      "\n",
      "Would you like me to suggest a different angle or help you develop this idea further?\n"
     ]
    },
    {
     "ename": "",
     "evalue": "",
     "output_type": "error",
     "traceback": [
      "\u001b[1;31mThe Kernel crashed while executing code in the current cell or a previous cell. \n",
      "\u001b[1;31mPlease review the code in the cell(s) to identify a possible cause of the failure. \n",
      "\u001b[1;31mClick <a href='https://aka.ms/vscodeJupyterKernelCrash'>here</a> for more info. \n",
      "\u001b[1;31mView Jupyter <a href='command:jupyter.viewOutput'>log</a> for further details."
     ]
    }
   ],
   "source": [
    "messages = []\n",
    "add_user_message(messages, \"Give me an idea to write an article on in AI.\")\n",
    "response = chat(messages, temp = 0.9)\n",
    "print(response)"
   ]
  },
  {
   "cell_type": "code",
   "execution_count": null,
   "id": "15c08e39",
   "metadata": {},
   "outputs": [],
   "source": []
  }
 ],
 "metadata": {
  "kernelspec": {
   "display_name": ".venv",
   "language": "python",
   "name": "python3"
  },
  "language_info": {
   "codemirror_mode": {
    "name": "ipython",
    "version": 3
   },
   "file_extension": ".py",
   "mimetype": "text/x-python",
   "name": "python",
   "nbconvert_exporter": "python",
   "pygments_lexer": "ipython3",
   "version": "3.13.5"
  }
 },
 "nbformat": 4,
 "nbformat_minor": 5
}
