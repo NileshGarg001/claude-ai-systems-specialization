{
 "cells": [
  {
   "cell_type": "markdown",
   "id": "794e5107",
   "metadata": {},
   "source": [
    "Exercise!\n",
    "\n",
    "Use message prefilling and stop sequences only to get three different commands in a single response\n",
    "\n",
    "There shouldn't be any comments or explanation\n",
    "\n",
    "Hint: message prefilling isn't limited to just characters like ```"
   ]
  },
  {
   "cell_type": "code",
   "execution_count": 1,
   "id": "1104894a",
   "metadata": {},
   "outputs": [],
   "source": [
    "# Load environment variables from .env file\n",
    "from dotenv import load_dotenv\n",
    "import os\n",
    "load_dotenv()\n",
    "\n",
    "# Create an API Client \n",
    "from anthropic import Anthropic\n",
    "client = Anthropic()\n",
    "model = \"claude-sonnet-4-0\""
   ]
  },
  {
   "cell_type": "code",
   "execution_count": 2,
   "id": "198fdf46",
   "metadata": {},
   "outputs": [],
   "source": [
    "# Helper Functions \n",
    "def add_user_message(messages,text):\n",
    "    messages.append({\"role\": \"user\", \"content\": text})\n",
    "\n",
    "def add_assistant_message(messages,text):\n",
    "    messages.append({\"role\": \"assistant\", \"content\": text})\n",
    "\n",
    "def chat(messages, system = \"You are a helpful assistant.\", stop_sequences = None):\n",
    "    message = client.messages.create(\n",
    "        model=model,\n",
    "        max_tokens=2000,\n",
    "        messages = messages,\n",
    "        system=system,\n",
    "        stop_sequences=stop_sequences\n",
    "    )\n",
    "    return message.content[0].text"
   ]
  },
  {
   "cell_type": "code",
   "execution_count": 5,
   "id": "0936da43",
   "metadata": {},
   "outputs": [
    {
     "name": "stdout",
     "output_type": "stream",
     "text": [
      "Here are three short AWS CLI command samples:\n",
      "\n",
      "1. **List S3 buckets:**\n",
      "   ```bash\n",
      "   aws s3 ls\n",
      "   ```\n",
      "\n",
      "2. **Describe EC2 instances:**\n",
      "   ```bash\n",
      "   aws ec2 describe-instances\n",
      "   ```\n",
      "\n",
      "3. **Get caller identity:**\n",
      "   ```bash\n",
      "   aws sts get-caller-identity\n",
      "   ```\n"
     ]
    }
   ],
   "source": [
    "messages = []\n",
    "\n",
    "prompt = \"\"\"\n",
    "Generate three different sample AWS CLI commands. Each should be very short.\n",
    "\"\"\"\n",
    "\n",
    "add_user_message(messages, prompt)\n",
    "\n",
    "text = chat(messages)\n",
    "text.strip()\n",
    "print(text)"
   ]
  },
  {
   "cell_type": "code",
   "execution_count": 4,
   "id": "19778897",
   "metadata": {},
   "outputs": [
    {
     "data": {
      "text/markdown": [
       "Here are three short AWS CLI commands:\n",
       "\n",
       "1. **List S3 buckets:**\n",
       "   ```bash\n",
       "   aws s3 ls\n",
       "   ```\n",
       "\n",
       "2. **Describe EC2 instances:**\n",
       "   ```bash\n",
       "   aws ec2 describe-instances\n",
       "   ```\n",
       "\n",
       "3. **Get caller identity:**\n",
       "   ```bash\n",
       "   aws sts get-caller-identity\n",
       "   ```"
      ],
      "text/plain": [
       "<IPython.core.display.Markdown object>"
      ]
     },
     "metadata": {},
     "output_type": "display_data"
    }
   ],
   "source": [
    "from IPython.display import Markdown\n",
    "\n",
    "display(Markdown(text))"
   ]
  },
  {
   "cell_type": "code",
   "execution_count": 6,
   "id": "796c9263",
   "metadata": {},
   "outputs": [
    {
     "name": "stdout",
     "output_type": "stream",
     "text": [
      "\n",
      "aws s3 ls\n",
      "\n",
      "aws ec2 describe-instances\n",
      "\n",
      "aws iam list-users\n",
      "\n"
     ]
    }
   ],
   "source": [
    "messages = []\n",
    "\n",
    "prompt = \"\"\"\n",
    "Generate three different sample AWS CLI commands. Each should be very short.\n",
    "\"\"\"\n",
    "\n",
    "add_user_message(messages, prompt)\n",
    "add_assistant_message(messages, \"```bash\")\n",
    "text = chat(messages, stop_sequences=[\"```\"])\n",
    "text.strip()\n",
    "print(text)"
   ]
  },
  {
   "cell_type": "markdown",
   "id": "321fe227",
   "metadata": {},
   "source": [
    "Hehe, I did it without any external help. A good reason to be happy. "
   ]
  }
 ],
 "metadata": {
  "kernelspec": {
   "display_name": ".venv",
   "language": "python",
   "name": "python3"
  },
  "language_info": {
   "codemirror_mode": {
    "name": "ipython",
    "version": 3
   },
   "file_extension": ".py",
   "mimetype": "text/x-python",
   "name": "python",
   "nbconvert_exporter": "python",
   "pygments_lexer": "ipython3",
   "version": "3.13.5"
  }
 },
 "nbformat": 4,
 "nbformat_minor": 5
}
