{
 "cells": [
  {
   "cell_type": "code",
   "execution_count": 1,
   "id": "ea1530e3",
   "metadata": {},
   "outputs": [],
   "source": [
    "from dotenv import load_dotenv\n",
    "import os\n",
    "\n",
    "# Load environment variables from .env file\n",
    "load_dotenv()\n",
    "\n",
    "# Create an API Client \n",
    "from anthropic import Anthropic\n",
    "client = Anthropic()\n",
    "model = \"claude-sonnet-4-0\""
   ]
  },
  {
   "cell_type": "code",
   "execution_count": 3,
   "id": "4f19f98c",
   "metadata": {},
   "outputs": [],
   "source": [
    "# Helper Functions \n",
    "def add_user_message(messages,text):\n",
    "    messages.append({\"role\": \"user\", \"content\": text})\n",
    "\n",
    "def add_assistant_message(messages,text):\n",
    "    messages.append({\"role\": \"assistant\", \"content\": text})\n",
    "\n",
    "def chat(messages, system = \"You are a helpful assistant.\", stop_sequences = []):\n",
    "    message = client.messages.create(\n",
    "        model=model,\n",
    "        max_tokens=1000,\n",
    "        messages = messages,\n",
    "        system=system,\n",
    "        stop_sequences=stop_sequences\n",
    "    )\n",
    "    return message.content[0].text"
   ]
  },
  {
   "cell_type": "code",
   "execution_count": 4,
   "id": "58f7e9c0",
   "metadata": {},
   "outputs": [
    {
     "name": "stdout",
     "output_type": "stream",
     "text": [
      "Both pancakes and waffles have their merits! It really comes down to personal preference:\n",
      "\n",
      "**Pancakes** are great if you like:\n",
      "- Fluffy, soft texture\n",
      "- Even syrup distribution\n",
      "- Quick and easy preparation\n",
      "- More portability\n",
      "\n",
      "**Waffles** shine if you prefer:\n",
      "- Crispy exterior with tender interior\n",
      "- Built-in syrup pockets\n",
      "- Sturdier base for toppings\n",
      "- Fun shape and presentation\n",
      "\n",
      "From a practical standpoint, both can be made with similar batters and offer comparable nutrition. Waffles tend to hold toppings better, while pancakes are often quicker to make.\n",
      "\n",
      "What matters most is what you enjoy eating! Do you have a preference, or are you trying to decide what to make for breakfast?\n"
     ]
    }
   ],
   "source": [
    "# Testing Claude on an opinionted topic \n",
    "messages = []\n",
    "add_user_message(messages, \"Which is better for breakfast, pancakes or waffles?\")\n",
    "response = chat(messages)\n",
    "print(response)"
   ]
  },
  {
   "cell_type": "code",
   "execution_count": 12,
   "id": "502448bb",
   "metadata": {},
   "outputs": [
    {
     "name": "stdout",
     "output_type": "stream",
     "text": [
      " for breakfast, followed by the 2nd most commonly asked question: Why?\n",
      "\n",
      "1. **Versatility**: Pancakes are like blank canvases - they work with virtually any topping, from fresh fruit and syrup to bacon and eggs, or even savory options.\n",
      "\n",
      "2. **Texture**: Pancakes have a softer, fluffier texture that many find more comforting and easier to eat.\n",
      "\n",
      "3. **Convenience**: They're quicker to make (no special equipment needed beyond a pan) and easier to customize portion sizes.\n",
      "\n",
      "4. **Absorption**: Pancakes soak up syrup and other toppings nicely, creating better flavor integration.\n",
      "\n",
      "That said, waffles have their devoted fans too! They offer:\n",
      "- Those satisfying crispy edges and syrup-catching pockets\n",
      "- A sturdier base for heavier toppings\n",
      "- A fun, distinctive shape\n",
      "\n",
      "Ultimately, it comes down to personal preference - both can make a delicious breakfast when prepared well. What matters most is what makes your morning feel special!\n"
     ]
    }
   ],
   "source": [
    "# Trying Preffiled Assistant Message \n",
    "messages = []\n",
    "add_user_message(messages, \"Which is better for breakfast, pancakes or waffles?\")\n",
    "add_assistant_message(messages, \"Pancakes are better than waffles\")\n",
    "response = chat(messages)\n",
    "print(response)"
   ]
  },
  {
   "cell_type": "markdown",
   "id": "6402c4a8",
   "metadata": {},
   "source": [
    "# Real World Applications of Pre-filled Assistant Messages\n",
    "\n",
    "* **Customer Service Chatbots**\n",
    "    * Setting default responses for common queries\n",
    "    * Maintaining consistent brand voice and tone\n",
    "    * Guiding conversations in preferred directions\n",
    "\n",
    "* **Educational AI Tutors**\n",
    "    * Providing structured learning paths\n",
    "    * Ensuring pedagogically sound responses\n",
    "    * Incorporating specific teaching methodologies\n",
    "\n",
    "* **Healthcare Chatbots**\n",
    "    * Including verified medical information\n",
    "    * Setting appropriate medical disclaimers\n",
    "    * Guiding patients through standard protocols\n",
    "\n",
    "* **Content Creation Assistants**\n",
    "    * Establishing style guidelines\n",
    "    * Maintaining consistent formatting\n",
    "    * Following brand-specific templates\n",
    "\n",
    "* **Virtual Sales Agents**\n",
    "    * Including product knowledge base\n",
    "    * Following sales scripts\n",
    "    * Maintaining pricing and policy guidelines\n",
    "\n",
    "* **Language Learning Applications**\n",
    "    * Setting language proficiency levels\n",
    "    * Providing grammatically correct examples\n",
    "    * Following specific teaching methods\n",
    "\n",
    "* **Documentation Assistants**\n",
    "    * Following documentation standards\n",
    "    * Maintaining technical accuracy\n",
    "    * Ensuring consistent terminology"
   ]
  },
  {
   "cell_type": "code",
   "execution_count": 13,
   "id": "53a2325e",
   "metadata": {},
   "outputs": [
    {
     "name": "stdout",
     "output_type": "stream",
     "text": [
      "1, 2, 3, 4, \n"
     ]
    }
   ],
   "source": [
    "# Trying a stop sequence \n",
    "messages = []\n",
    "add_user_message(messages, \"Count from 1 to 10.\")\n",
    "response = chat(messages, stop_sequences=[\"5\"])\n",
    "print(response)"
   ]
  },
  {
   "cell_type": "markdown",
   "id": "ab7f52f2",
   "metadata": {},
   "source": [
    "# Real World Applications of Stop Sequences\n",
    "\n",
    "* **Controlled Output Length**\n",
    "    * Limiting text generation to specific lengths\n",
    "    * Preventing run-on responses\n",
    "    * Managing API token usage\n",
    "\n",
    "* **Content Filtering**\n",
    "    * Stopping generation at sensitive topics\n",
    "    * Preventing inappropriate content\n",
    "    * Maintaining professional boundaries\n",
    "\n",
    "* **Structured Responses**\n",
    "    * Creating formatted lists or tables\n",
    "    * Enforcing specific output patterns\n",
    "    * Generating partial completions\n",
    "\n",
    "* **Interactive Applications**\n",
    "    * Enabling turn-based interactions\n",
    "    * Managing conversation flow\n",
    "    * Creating interactive storytelling\n",
    "\n",
    "* **Data Processing**\n",
    "    * Parsing structured data\n",
    "    * Limiting output to relevant sections\n",
    "    * Controlling extraction boundaries\n",
    "\n",
    "* **Educational Tools**\n",
    "    * Breaking down lessons into segments\n",
    "    * Creating interactive exercises\n",
    "    * Managing learning pace\n",
    "\n",
    "* **Chatbot Control**\n",
    "    * Managing response length\n",
    "    * Implementing conversation breaks\n",
    "    * Creating natural dialogue flows"
   ]
  }
 ],
 "metadata": {
  "kernelspec": {
   "display_name": ".venv",
   "language": "python",
   "name": "python3"
  },
  "language_info": {
   "codemirror_mode": {
    "name": "ipython",
    "version": 3
   },
   "file_extension": ".py",
   "mimetype": "text/x-python",
   "name": "python",
   "nbconvert_exporter": "python",
   "pygments_lexer": "ipython3",
   "version": "3.13.5"
  }
 },
 "nbformat": 4,
 "nbformat_minor": 5
}
